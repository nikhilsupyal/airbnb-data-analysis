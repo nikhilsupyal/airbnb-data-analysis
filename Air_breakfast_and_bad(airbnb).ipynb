{
 "cells": [
  {
   "cell_type": "code",
   "execution_count": 1,
   "id": "ce7c5d5e-73c9-457b-b29c-e8895c5e8969",
   "metadata": {},
   "outputs": [],
   "source": [
    "import pandas as pd \n",
    "import numpy as np\n",
    "import matplotlib.pyplot as plt\n",
    "import seaborn as sns"
   ]
  },
  {
   "cell_type": "code",
   "execution_count": 2,
   "id": "644dc989-4768-4ae5-9812-bffe720b77b5",
   "metadata": {},
   "outputs": [],
   "source": [
    "df =pd.read_csv ('Air_breakfast_and_bad(airbnb).csv.gz',lineterminator='\\n')\n"
   ]
  },
  {
   "cell_type": "code",
   "execution_count": 3,
   "id": "d773ea06-dbb0-4599-951d-4578df8cb150",
   "metadata": {},
   "outputs": [
    {
     "data": {
      "text/html": [
       "<div>\n",
       "<style scoped>\n",
       "    .dataframe tbody tr th:only-of-type {\n",
       "        vertical-align: middle;\n",
       "    }\n",
       "\n",
       "    .dataframe tbody tr th {\n",
       "        vertical-align: top;\n",
       "    }\n",
       "\n",
       "    .dataframe thead th {\n",
       "        text-align: right;\n",
       "    }\n",
       "</style>\n",
       "<table border=\"1\" class=\"dataframe\">\n",
       "  <thead>\n",
       "    <tr style=\"text-align: right;\">\n",
       "      <th></th>\n",
       "      <th>id</th>\n",
       "      <th>NAME</th>\n",
       "      <th>host id</th>\n",
       "      <th>host_identity_verified</th>\n",
       "      <th>host name</th>\n",
       "      <th>neighbourhood group</th>\n",
       "      <th>neighbourhood</th>\n",
       "      <th>lat</th>\n",
       "      <th>long</th>\n",
       "      <th>country</th>\n",
       "      <th>...</th>\n",
       "      <th>service fee</th>\n",
       "      <th>minimum nights</th>\n",
       "      <th>number of reviews</th>\n",
       "      <th>last review</th>\n",
       "      <th>reviews per month</th>\n",
       "      <th>review rate number</th>\n",
       "      <th>calculated host listings count</th>\n",
       "      <th>availability 365</th>\n",
       "      <th>house_rules</th>\n",
       "      <th>license\\r</th>\n",
       "    </tr>\n",
       "  </thead>\n",
       "  <tbody>\n",
       "    <tr>\n",
       "      <th>0</th>\n",
       "      <td>1001254</td>\n",
       "      <td>Clean &amp; quiet apt home by the park</td>\n",
       "      <td>80014485718</td>\n",
       "      <td>unconfirmed</td>\n",
       "      <td>Madaline</td>\n",
       "      <td>Brooklyn</td>\n",
       "      <td>Kensington</td>\n",
       "      <td>40.64749</td>\n",
       "      <td>-73.97237</td>\n",
       "      <td>United States</td>\n",
       "      <td>...</td>\n",
       "      <td>$193</td>\n",
       "      <td>10.0</td>\n",
       "      <td>9.0</td>\n",
       "      <td>10/19/2021</td>\n",
       "      <td>0.21</td>\n",
       "      <td>4.0</td>\n",
       "      <td>6.0</td>\n",
       "      <td>286.0</td>\n",
       "      <td>Clean up and treat the home the way you'd like...</td>\n",
       "      <td>\\r</td>\n",
       "    </tr>\n",
       "    <tr>\n",
       "      <th>1</th>\n",
       "      <td>1002102</td>\n",
       "      <td>Skylit Midtown Castle</td>\n",
       "      <td>52335172823</td>\n",
       "      <td>verified</td>\n",
       "      <td>Jenna</td>\n",
       "      <td>Manhattan</td>\n",
       "      <td>Midtown</td>\n",
       "      <td>40.75362</td>\n",
       "      <td>-73.98377</td>\n",
       "      <td>United States</td>\n",
       "      <td>...</td>\n",
       "      <td>$28</td>\n",
       "      <td>30.0</td>\n",
       "      <td>45.0</td>\n",
       "      <td>5/21/2022</td>\n",
       "      <td>0.38</td>\n",
       "      <td>4.0</td>\n",
       "      <td>2.0</td>\n",
       "      <td>228.0</td>\n",
       "      <td>Pet friendly but please confirm with me if the...</td>\n",
       "      <td>\\r</td>\n",
       "    </tr>\n",
       "    <tr>\n",
       "      <th>2</th>\n",
       "      <td>1002403</td>\n",
       "      <td>THE VILLAGE OF HARLEM....NEW YORK !</td>\n",
       "      <td>78829239556</td>\n",
       "      <td>NaN</td>\n",
       "      <td>Elise</td>\n",
       "      <td>Manhattan</td>\n",
       "      <td>Harlem</td>\n",
       "      <td>40.80902</td>\n",
       "      <td>-73.94190</td>\n",
       "      <td>United States</td>\n",
       "      <td>...</td>\n",
       "      <td>$124</td>\n",
       "      <td>3.0</td>\n",
       "      <td>0.0</td>\n",
       "      <td>NaN</td>\n",
       "      <td>NaN</td>\n",
       "      <td>5.0</td>\n",
       "      <td>1.0</td>\n",
       "      <td>352.0</td>\n",
       "      <td>I encourage you to use my kitchen, cooking and...</td>\n",
       "      <td>\\r</td>\n",
       "    </tr>\n",
       "    <tr>\n",
       "      <th>3</th>\n",
       "      <td>1002755</td>\n",
       "      <td>NaN</td>\n",
       "      <td>85098326012</td>\n",
       "      <td>unconfirmed</td>\n",
       "      <td>Garry</td>\n",
       "      <td>Brooklyn</td>\n",
       "      <td>Clinton Hill</td>\n",
       "      <td>40.68514</td>\n",
       "      <td>-73.95976</td>\n",
       "      <td>United States</td>\n",
       "      <td>...</td>\n",
       "      <td>$74</td>\n",
       "      <td>30.0</td>\n",
       "      <td>270.0</td>\n",
       "      <td>7/5/2019</td>\n",
       "      <td>4.64</td>\n",
       "      <td>4.0</td>\n",
       "      <td>1.0</td>\n",
       "      <td>322.0</td>\n",
       "      <td>NaN</td>\n",
       "      <td>\\r</td>\n",
       "    </tr>\n",
       "    <tr>\n",
       "      <th>4</th>\n",
       "      <td>1003689</td>\n",
       "      <td>Entire Apt: Spacious Studio/Loft by central park</td>\n",
       "      <td>92037596077</td>\n",
       "      <td>verified</td>\n",
       "      <td>Lyndon</td>\n",
       "      <td>Manhattan</td>\n",
       "      <td>East Harlem</td>\n",
       "      <td>40.79851</td>\n",
       "      <td>-73.94399</td>\n",
       "      <td>United States</td>\n",
       "      <td>...</td>\n",
       "      <td>$41</td>\n",
       "      <td>10.0</td>\n",
       "      <td>9.0</td>\n",
       "      <td>11/19/2018</td>\n",
       "      <td>0.10</td>\n",
       "      <td>3.0</td>\n",
       "      <td>1.0</td>\n",
       "      <td>289.0</td>\n",
       "      <td>Please no smoking in the house, porch or on th...</td>\n",
       "      <td>\\r</td>\n",
       "    </tr>\n",
       "  </tbody>\n",
       "</table>\n",
       "<p>5 rows × 26 columns</p>\n",
       "</div>"
      ],
      "text/plain": [
       "        id                                              NAME      host id  \\\n",
       "0  1001254                Clean & quiet apt home by the park  80014485718   \n",
       "1  1002102                             Skylit Midtown Castle  52335172823   \n",
       "2  1002403               THE VILLAGE OF HARLEM....NEW YORK !  78829239556   \n",
       "3  1002755                                               NaN  85098326012   \n",
       "4  1003689  Entire Apt: Spacious Studio/Loft by central park  92037596077   \n",
       "\n",
       "  host_identity_verified host name neighbourhood group neighbourhood  \\\n",
       "0            unconfirmed  Madaline            Brooklyn    Kensington   \n",
       "1               verified     Jenna           Manhattan       Midtown   \n",
       "2                    NaN     Elise           Manhattan        Harlem   \n",
       "3            unconfirmed     Garry            Brooklyn  Clinton Hill   \n",
       "4               verified    Lyndon           Manhattan   East Harlem   \n",
       "\n",
       "        lat      long        country  ... service fee minimum nights  \\\n",
       "0  40.64749 -73.97237  United States  ...       $193            10.0   \n",
       "1  40.75362 -73.98377  United States  ...        $28            30.0   \n",
       "2  40.80902 -73.94190  United States  ...       $124             3.0   \n",
       "3  40.68514 -73.95976  United States  ...        $74            30.0   \n",
       "4  40.79851 -73.94399  United States  ...        $41            10.0   \n",
       "\n",
       "  number of reviews last review  reviews per month review rate number  \\\n",
       "0               9.0  10/19/2021               0.21                4.0   \n",
       "1              45.0   5/21/2022               0.38                4.0   \n",
       "2               0.0         NaN                NaN                5.0   \n",
       "3             270.0    7/5/2019               4.64                4.0   \n",
       "4               9.0  11/19/2018               0.10                3.0   \n",
       "\n",
       "  calculated host listings count  availability 365  \\\n",
       "0                            6.0             286.0   \n",
       "1                            2.0             228.0   \n",
       "2                            1.0             352.0   \n",
       "3                            1.0             322.0   \n",
       "4                            1.0             289.0   \n",
       "\n",
       "                                         house_rules license\\r  \n",
       "0  Clean up and treat the home the way you'd like...        \\r  \n",
       "1  Pet friendly but please confirm with me if the...        \\r  \n",
       "2  I encourage you to use my kitchen, cooking and...        \\r  \n",
       "3                                                NaN        \\r  \n",
       "4  Please no smoking in the house, porch or on th...        \\r  \n",
       "\n",
       "[5 rows x 26 columns]"
      ]
     },
     "execution_count": 3,
     "metadata": {},
     "output_type": "execute_result"
    }
   ],
   "source": [
    "df.head()"
   ]
  },
  {
   "cell_type": "code",
   "execution_count": 4,
   "id": "f1e4fc63-1c57-4fba-a8c5-24e5ab9ea3eb",
   "metadata": {},
   "outputs": [
    {
     "name": "stdout",
     "output_type": "stream",
     "text": [
      "<class 'pandas.core.frame.DataFrame'>\n",
      "RangeIndex: 102599 entries, 0 to 102598\n",
      "Data columns (total 26 columns):\n",
      " #   Column                          Non-Null Count   Dtype  \n",
      "---  ------                          --------------   -----  \n",
      " 0   id                              102599 non-null  int64  \n",
      " 1   NAME                            102349 non-null  object \n",
      " 2   host id                         102599 non-null  int64  \n",
      " 3   host_identity_verified          102310 non-null  object \n",
      " 4   host name                       102193 non-null  object \n",
      " 5   neighbourhood group             102570 non-null  object \n",
      " 6   neighbourhood                   102583 non-null  object \n",
      " 7   lat                             102591 non-null  float64\n",
      " 8   long                            102591 non-null  float64\n",
      " 9   country                         102067 non-null  object \n",
      " 10  country code                    102468 non-null  object \n",
      " 11  instant_bookable                102494 non-null  object \n",
      " 12  cancellation_policy             102523 non-null  object \n",
      " 13  room type                       102599 non-null  object \n",
      " 14  Construction year               102385 non-null  float64\n",
      " 15  price                           102352 non-null  object \n",
      " 16  service fee                     102326 non-null  object \n",
      " 17  minimum nights                  102190 non-null  float64\n",
      " 18  number of reviews               102416 non-null  float64\n",
      " 19  last review                     86706 non-null   object \n",
      " 20  reviews per month               86720 non-null   float64\n",
      " 21  review rate number              102273 non-null  float64\n",
      " 22  calculated host listings count  102280 non-null  float64\n",
      " 23  availability 365                102151 non-null  float64\n",
      " 24  house_rules                     50468 non-null   object \n",
      "                        102599 non-null  object \n",
      "dtypes: float64(9), int64(2), object(15)\n",
      "memory usage: 20.4+ MB\n"
     ]
    }
   ],
   "source": [
    "df.info()"
   ]
  },
  {
   "cell_type": "markdown",
   "id": "2d503b43-9200-421e-a663-1225368b188d",
   "metadata": {},
   "source": [
    "# Check missing value"
   ]
  },
  {
   "cell_type": "code",
   "execution_count": 5,
   "id": "48516b7c-7d91-43d7-88a8-51d9ae766e52",
   "metadata": {},
   "outputs": [
    {
     "name": "stdout",
     "output_type": "stream",
     "text": [
      "id                                    0\n",
      "NAME                                250\n",
      "host id                               0\n",
      "host_identity_verified              289\n",
      "host name                           406\n",
      "neighbourhood group                  29\n",
      "neighbourhood                        16\n",
      "lat                                   8\n",
      "long                                  8\n",
      "country                             532\n",
      "country code                        131\n",
      "instant_bookable                    105\n",
      "cancellation_policy                  76\n",
      "room type                             0\n",
      "Construction year                   214\n",
      "price                               247\n",
      "service fee                         273\n",
      "minimum nights                      409\n",
      "number of reviews                   183\n",
      "last review                       15893\n",
      "reviews per month                 15879\n",
      "review rate number                  326\n",
      "calculated host listings count      319\n",
      "availability 365                    448\n",
      "house_rules                       52131\n",
      "license\\r                             0\n",
      "dtype: int64\n"
     ]
    }
   ],
   "source": [
    "print(df.isnull().sum())"
   ]
  },
  {
   "cell_type": "code",
   "execution_count": 6,
   "id": "a4a7b268-b304-4cab-898b-4de928d05cd4",
   "metadata": {},
   "outputs": [
    {
     "name": "stdout",
     "output_type": "stream",
     "text": [
      "<class 'pandas.core.frame.DataFrame'>\n",
      "RangeIndex: 102599 entries, 0 to 102598\n",
      "Data columns (total 26 columns):\n",
      " #   Column                          Non-Null Count   Dtype  \n",
      "---  ------                          --------------   -----  \n",
      " 0   id                              102599 non-null  int64  \n",
      " 1   NAME                            102349 non-null  object \n",
      " 2   host id                         102599 non-null  int64  \n",
      " 3   host_identity_verified          102310 non-null  object \n",
      " 4   host name                       102193 non-null  object \n",
      " 5   neighbourhood group             102570 non-null  object \n",
      " 6   neighbourhood                   102583 non-null  object \n",
      " 7   lat                             102591 non-null  float64\n",
      " 8   long                            102591 non-null  float64\n",
      " 9   country                         102067 non-null  object \n",
      " 10  country code                    102468 non-null  object \n",
      " 11  instant_bookable                102494 non-null  object \n",
      " 12  cancellation_policy             102523 non-null  object \n",
      " 13  room type                       102599 non-null  object \n",
      " 14  Construction year               102385 non-null  float64\n",
      " 15  price                           102352 non-null  object \n",
      " 16  service fee                     102326 non-null  object \n",
      " 17  minimum nights                  102190 non-null  float64\n",
      " 18  number of reviews               102416 non-null  float64\n",
      " 19  last review                     86706 non-null   object \n",
      " 20  reviews per month               86720 non-null   float64\n",
      " 21  review rate number              102273 non-null  float64\n",
      " 22  calculated host listings count  102280 non-null  float64\n",
      " 23  availability 365                102151 non-null  float64\n",
      " 24  house_rules                     50468 non-null   object \n",
      "                        102599 non-null  object \n",
      "dtypes: float64(9), int64(2), object(15)\n",
      "memory usage: 20.4+ MB\n"
     ]
    }
   ],
   "source": [
    "df.info()"
   ]
  },
  {
   "cell_type": "code",
   "execution_count": 7,
   "id": "3d8f43b7-d2eb-4a90-bd7b-8f9a449fdd57",
   "metadata": {},
   "outputs": [],
   "source": [
    " df['last review'] = pd.to_datetime(df['last review'],errors=\"coerce\")"
   ]
  },
  {
   "cell_type": "code",
   "execution_count": 8,
   "id": "94ef64a8-20cf-4e39-a4eb-d3874686eaca",
   "metadata": {},
   "outputs": [
    {
     "name": "stdout",
     "output_type": "stream",
     "text": [
      "<class 'pandas.core.frame.DataFrame'>\n",
      "RangeIndex: 102599 entries, 0 to 102598\n",
      "Data columns (total 26 columns):\n",
      " #   Column                          Non-Null Count   Dtype         \n",
      "---  ------                          --------------   -----         \n",
      " 0   id                              102599 non-null  int64         \n",
      " 1   NAME                            102349 non-null  object        \n",
      " 2   host id                         102599 non-null  int64         \n",
      " 3   host_identity_verified          102310 non-null  object        \n",
      " 4   host name                       102193 non-null  object        \n",
      " 5   neighbourhood group             102570 non-null  object        \n",
      " 6   neighbourhood                   102583 non-null  object        \n",
      " 7   lat                             102591 non-null  float64       \n",
      " 8   long                            102591 non-null  float64       \n",
      " 9   country                         102067 non-null  object        \n",
      " 10  country code                    102468 non-null  object        \n",
      " 11  instant_bookable                102494 non-null  object        \n",
      " 12  cancellation_policy             102523 non-null  object        \n",
      " 13  room type                       102599 non-null  object        \n",
      " 14  Construction year               102385 non-null  float64       \n",
      " 15  price                           102352 non-null  object        \n",
      " 16  service fee                     102326 non-null  object        \n",
      " 17  minimum nights                  102190 non-null  float64       \n",
      " 18  number of reviews               102416 non-null  float64       \n",
      " 19  last review                     86706 non-null   datetime64[ns]\n",
      " 20  reviews per month               86720 non-null   float64       \n",
      " 21  review rate number              102273 non-null  float64       \n",
      " 22  calculated host listings count  102280 non-null  float64       \n",
      " 23  availability 365                102151 non-null  float64       \n",
      " 24  house_rules                     50468 non-null   object        \n",
      "                        102599 non-null  object        \n",
      "dtypes: datetime64[ns](1), float64(9), int64(2), object(14)\n",
      "memory usage: 20.4+ MB\n"
     ]
    }
   ],
   "source": [
    "df.info()"
   ]
  },
  {
   "cell_type": "code",
   "execution_count": 9,
   "id": "158f7b46-e756-4930-bd83-007123448ffb",
   "metadata": {},
   "outputs": [],
   "source": [
    "df.fillna({'reviews per month' : 0 ,'last review' : df['last review'].min()},inplace=True)"
   ]
  },
  {
   "cell_type": "code",
   "execution_count": 10,
   "id": "8deb6f9e-28c7-43e7-839b-2e94e232acb2",
   "metadata": {},
   "outputs": [],
   "source": [
    "df.dropna(subset=['NAME','host name'],inplace=True)"
   ]
  },
  {
   "cell_type": "code",
   "execution_count": 11,
   "id": "9f35265d-5230-42ce-b054-eff316957566",
   "metadata": {},
   "outputs": [
    {
     "data": {
      "text/plain": [
       "id                                    0\n",
       "NAME                                  0\n",
       "host id                               0\n",
       "host_identity_verified              276\n",
       "host name                             0\n",
       "neighbourhood group                  26\n",
       "neighbourhood                        16\n",
       "lat                                   8\n",
       "long                                  8\n",
       "country                             526\n",
       "country code                        122\n",
       "instant_bookable                     96\n",
       "cancellation_policy                  70\n",
       "room type                             0\n",
       "Construction year                   200\n",
       "price                               239\n",
       "service fee                         268\n",
       "minimum nights                      403\n",
       "number of reviews                   182\n",
       "last review                           0\n",
       "reviews per month                     0\n",
       "review rate number                  314\n",
       "calculated host listings count      318\n",
       "availability 365                    420\n",
       "house_rules                       51867\n",
       "license\\r                             0\n",
       "dtype: int64"
      ]
     },
     "execution_count": 11,
     "metadata": {},
     "output_type": "execute_result"
    }
   ],
   "source": [
    "df.isnull().sum()"
   ]
  },
  {
   "cell_type": "code",
   "execution_count": 12,
   "id": "5e7e59d3-b13c-4c6c-a90c-a02ef52d3bbc",
   "metadata": {},
   "outputs": [],
   "source": [
    "df=df.drop(columns=['house_rules','license\\r'],errors='ignore')"
   ]
  },
  {
   "cell_type": "code",
   "execution_count": 13,
   "id": "ebf244ef-905f-4de5-aebd-c3cb6414eaf6",
   "metadata": {},
   "outputs": [
    {
     "data": {
      "text/html": [
       "<div>\n",
       "<style scoped>\n",
       "    .dataframe tbody tr th:only-of-type {\n",
       "        vertical-align: middle;\n",
       "    }\n",
       "\n",
       "    .dataframe tbody tr th {\n",
       "        vertical-align: top;\n",
       "    }\n",
       "\n",
       "    .dataframe thead th {\n",
       "        text-align: right;\n",
       "    }\n",
       "</style>\n",
       "<table border=\"1\" class=\"dataframe\">\n",
       "  <thead>\n",
       "    <tr style=\"text-align: right;\">\n",
       "      <th></th>\n",
       "      <th>id</th>\n",
       "      <th>NAME</th>\n",
       "      <th>host id</th>\n",
       "      <th>host_identity_verified</th>\n",
       "      <th>host name</th>\n",
       "      <th>neighbourhood group</th>\n",
       "      <th>neighbourhood</th>\n",
       "      <th>lat</th>\n",
       "      <th>long</th>\n",
       "      <th>country</th>\n",
       "      <th>...</th>\n",
       "      <th>Construction year</th>\n",
       "      <th>price</th>\n",
       "      <th>service fee</th>\n",
       "      <th>minimum nights</th>\n",
       "      <th>number of reviews</th>\n",
       "      <th>last review</th>\n",
       "      <th>reviews per month</th>\n",
       "      <th>review rate number</th>\n",
       "      <th>calculated host listings count</th>\n",
       "      <th>availability 365</th>\n",
       "    </tr>\n",
       "  </thead>\n",
       "  <tbody>\n",
       "    <tr>\n",
       "      <th>0</th>\n",
       "      <td>1001254</td>\n",
       "      <td>Clean &amp; quiet apt home by the park</td>\n",
       "      <td>80014485718</td>\n",
       "      <td>unconfirmed</td>\n",
       "      <td>Madaline</td>\n",
       "      <td>Brooklyn</td>\n",
       "      <td>Kensington</td>\n",
       "      <td>40.64749</td>\n",
       "      <td>-73.97237</td>\n",
       "      <td>United States</td>\n",
       "      <td>...</td>\n",
       "      <td>2020.0</td>\n",
       "      <td>$966</td>\n",
       "      <td>$193</td>\n",
       "      <td>10.0</td>\n",
       "      <td>9.0</td>\n",
       "      <td>2021-10-19</td>\n",
       "      <td>0.21</td>\n",
       "      <td>4.0</td>\n",
       "      <td>6.0</td>\n",
       "      <td>286.0</td>\n",
       "    </tr>\n",
       "  </tbody>\n",
       "</table>\n",
       "<p>1 rows × 24 columns</p>\n",
       "</div>"
      ],
      "text/plain": [
       "        id                                NAME      host id  \\\n",
       "0  1001254  Clean & quiet apt home by the park  80014485718   \n",
       "\n",
       "  host_identity_verified host name neighbourhood group neighbourhood  \\\n",
       "0            unconfirmed  Madaline            Brooklyn    Kensington   \n",
       "\n",
       "        lat      long        country  ... Construction year  price  \\\n",
       "0  40.64749 -73.97237  United States  ...            2020.0  $966    \n",
       "\n",
       "  service fee minimum nights  number of reviews last review reviews per month  \\\n",
       "0       $193            10.0                9.0  2021-10-19              0.21   \n",
       "\n",
       "   review rate number  calculated host listings count availability 365  \n",
       "0                 4.0                             6.0            286.0  \n",
       "\n",
       "[1 rows x 24 columns]"
      ]
     },
     "execution_count": 13,
     "metadata": {},
     "output_type": "execute_result"
    }
   ],
   "source": [
    "df.head(1)"
   ]
  },
  {
   "cell_type": "code",
   "execution_count": 14,
   "id": "5d038c6c-13da-4582-b4fa-1022d0d3c49b",
   "metadata": {},
   "outputs": [
    {
     "name": "stderr",
     "output_type": "stream",
     "text": [
      "<>:1: SyntaxWarning: invalid escape sequence '\\$'\n",
      "<>:2: SyntaxWarning: invalid escape sequence '\\$'\n",
      "<>:1: SyntaxWarning: invalid escape sequence '\\$'\n",
      "<>:2: SyntaxWarning: invalid escape sequence '\\$'\n",
      "C:\\Users\\Unifier\\AppData\\Local\\Temp\\ipykernel_9136\\3791459287.py:1: SyntaxWarning: invalid escape sequence '\\$'\n",
      "  df['price']=df['price'].replace('[\\$,]','',regex=True).astype(float)\n",
      "C:\\Users\\Unifier\\AppData\\Local\\Temp\\ipykernel_9136\\3791459287.py:2: SyntaxWarning: invalid escape sequence '\\$'\n",
      "  df['service fee']=df['service fee'].replace('[\\$,]','',regex=True).astype(float)\n"
     ]
    }
   ],
   "source": [
    "df['price']=df['price'].replace('[\\$,]','',regex=True).astype(float)\n",
    "df['service fee']=df['service fee'].replace('[\\$,]','',regex=True).astype(float)"
   ]
  },
  {
   "cell_type": "code",
   "execution_count": 15,
   "id": "f61c4f02-a253-4fe8-936f-65fe321c8aca",
   "metadata": {},
   "outputs": [],
   "source": [
    "df.drop_duplicates(inplace=True)"
   ]
  },
  {
   "cell_type": "code",
   "execution_count": 16,
   "id": "a4cdae84-c87f-4406-a471-f3618d9fff0e",
   "metadata": {},
   "outputs": [
    {
     "data": {
      "text/html": [
       "<div>\n",
       "<style scoped>\n",
       "    .dataframe tbody tr th:only-of-type {\n",
       "        vertical-align: middle;\n",
       "    }\n",
       "\n",
       "    .dataframe tbody tr th {\n",
       "        vertical-align: top;\n",
       "    }\n",
       "\n",
       "    .dataframe thead th {\n",
       "        text-align: right;\n",
       "    }\n",
       "</style>\n",
       "<table border=\"1\" class=\"dataframe\">\n",
       "  <thead>\n",
       "    <tr style=\"text-align: right;\">\n",
       "      <th></th>\n",
       "      <th>id</th>\n",
       "      <th>host id</th>\n",
       "      <th>lat</th>\n",
       "      <th>long</th>\n",
       "      <th>Construction year</th>\n",
       "      <th>price</th>\n",
       "      <th>service fee</th>\n",
       "      <th>minimum nights</th>\n",
       "      <th>number of reviews</th>\n",
       "      <th>last review</th>\n",
       "      <th>reviews per month</th>\n",
       "      <th>review rate number</th>\n",
       "      <th>calculated host listings count</th>\n",
       "      <th>availability 365</th>\n",
       "    </tr>\n",
       "  </thead>\n",
       "  <tbody>\n",
       "    <tr>\n",
       "      <th>count</th>\n",
       "      <td>1.014100e+05</td>\n",
       "      <td>1.014100e+05</td>\n",
       "      <td>101402.000000</td>\n",
       "      <td>101402.000000</td>\n",
       "      <td>101210.000000</td>\n",
       "      <td>101171.000000</td>\n",
       "      <td>101142.000000</td>\n",
       "      <td>101016.000000</td>\n",
       "      <td>101228.000000</td>\n",
       "      <td>101410</td>\n",
       "      <td>101410.000000</td>\n",
       "      <td>101103.000000</td>\n",
       "      <td>101092.000000</td>\n",
       "      <td>100990.000000</td>\n",
       "    </tr>\n",
       "    <tr>\n",
       "      <th>mean</th>\n",
       "      <td>2.920959e+07</td>\n",
       "      <td>4.926155e+10</td>\n",
       "      <td>40.728082</td>\n",
       "      <td>-73.949663</td>\n",
       "      <td>2012.486908</td>\n",
       "      <td>625.381008</td>\n",
       "      <td>125.043998</td>\n",
       "      <td>8.113744</td>\n",
       "      <td>27.511854</td>\n",
       "      <td>2018-05-15 21:26:08.721033728</td>\n",
       "      <td>1.163207</td>\n",
       "      <td>3.278558</td>\n",
       "      <td>7.948463</td>\n",
       "      <td>141.164660</td>\n",
       "    </tr>\n",
       "    <tr>\n",
       "      <th>min</th>\n",
       "      <td>1.001254e+06</td>\n",
       "      <td>1.236005e+08</td>\n",
       "      <td>40.499790</td>\n",
       "      <td>-74.249840</td>\n",
       "      <td>2003.000000</td>\n",
       "      <td>50.000000</td>\n",
       "      <td>10.000000</td>\n",
       "      <td>-1223.000000</td>\n",
       "      <td>0.000000</td>\n",
       "      <td>2012-07-11 00:00:00</td>\n",
       "      <td>0.000000</td>\n",
       "      <td>1.000000</td>\n",
       "      <td>1.000000</td>\n",
       "      <td>-10.000000</td>\n",
       "    </tr>\n",
       "    <tr>\n",
       "      <th>25%</th>\n",
       "      <td>1.507574e+07</td>\n",
       "      <td>2.459183e+10</td>\n",
       "      <td>40.688730</td>\n",
       "      <td>-73.982570</td>\n",
       "      <td>2007.000000</td>\n",
       "      <td>340.000000</td>\n",
       "      <td>68.000000</td>\n",
       "      <td>2.000000</td>\n",
       "      <td>1.000000</td>\n",
       "      <td>2017-07-30 00:00:00</td>\n",
       "      <td>0.090000</td>\n",
       "      <td>2.000000</td>\n",
       "      <td>1.000000</td>\n",
       "      <td>3.000000</td>\n",
       "    </tr>\n",
       "    <tr>\n",
       "      <th>50%</th>\n",
       "      <td>2.922911e+07</td>\n",
       "      <td>4.912069e+10</td>\n",
       "      <td>40.722300</td>\n",
       "      <td>-73.954440</td>\n",
       "      <td>2012.000000</td>\n",
       "      <td>625.000000</td>\n",
       "      <td>125.000000</td>\n",
       "      <td>3.000000</td>\n",
       "      <td>7.000000</td>\n",
       "      <td>2019-05-23 00:00:00</td>\n",
       "      <td>0.480000</td>\n",
       "      <td>3.000000</td>\n",
       "      <td>1.000000</td>\n",
       "      <td>96.000000</td>\n",
       "    </tr>\n",
       "    <tr>\n",
       "      <th>75%</th>\n",
       "      <td>4.328308e+07</td>\n",
       "      <td>7.399747e+10</td>\n",
       "      <td>40.762750</td>\n",
       "      <td>-73.932340</td>\n",
       "      <td>2017.000000</td>\n",
       "      <td>913.000000</td>\n",
       "      <td>183.000000</td>\n",
       "      <td>5.000000</td>\n",
       "      <td>31.000000</td>\n",
       "      <td>2019-07-01 00:00:00</td>\n",
       "      <td>1.710000</td>\n",
       "      <td>4.000000</td>\n",
       "      <td>2.000000</td>\n",
       "      <td>269.000000</td>\n",
       "    </tr>\n",
       "    <tr>\n",
       "      <th>max</th>\n",
       "      <td>5.736742e+07</td>\n",
       "      <td>9.876313e+10</td>\n",
       "      <td>40.916970</td>\n",
       "      <td>-73.705220</td>\n",
       "      <td>2022.000000</td>\n",
       "      <td>1200.000000</td>\n",
       "      <td>240.000000</td>\n",
       "      <td>5645.000000</td>\n",
       "      <td>1024.000000</td>\n",
       "      <td>2058-06-16 00:00:00</td>\n",
       "      <td>90.000000</td>\n",
       "      <td>5.000000</td>\n",
       "      <td>332.000000</td>\n",
       "      <td>3677.000000</td>\n",
       "    </tr>\n",
       "    <tr>\n",
       "      <th>std</th>\n",
       "      <td>1.626820e+07</td>\n",
       "      <td>2.853703e+10</td>\n",
       "      <td>0.055850</td>\n",
       "      <td>0.049474</td>\n",
       "      <td>5.765130</td>\n",
       "      <td>331.609111</td>\n",
       "      <td>66.313374</td>\n",
       "      <td>30.378014</td>\n",
       "      <td>49.549258</td>\n",
       "      <td>NaN</td>\n",
       "      <td>1.683708</td>\n",
       "      <td>1.285369</td>\n",
       "      <td>32.328974</td>\n",
       "      <td>135.419199</td>\n",
       "    </tr>\n",
       "  </tbody>\n",
       "</table>\n",
       "</div>"
      ],
      "text/plain": [
       "                 id       host id            lat           long  \\\n",
       "count  1.014100e+05  1.014100e+05  101402.000000  101402.000000   \n",
       "mean   2.920959e+07  4.926155e+10      40.728082     -73.949663   \n",
       "min    1.001254e+06  1.236005e+08      40.499790     -74.249840   \n",
       "25%    1.507574e+07  2.459183e+10      40.688730     -73.982570   \n",
       "50%    2.922911e+07  4.912069e+10      40.722300     -73.954440   \n",
       "75%    4.328308e+07  7.399747e+10      40.762750     -73.932340   \n",
       "max    5.736742e+07  9.876313e+10      40.916970     -73.705220   \n",
       "std    1.626820e+07  2.853703e+10       0.055850       0.049474   \n",
       "\n",
       "       Construction year          price    service fee  minimum nights  \\\n",
       "count      101210.000000  101171.000000  101142.000000   101016.000000   \n",
       "mean         2012.486908     625.381008     125.043998        8.113744   \n",
       "min          2003.000000      50.000000      10.000000    -1223.000000   \n",
       "25%          2007.000000     340.000000      68.000000        2.000000   \n",
       "50%          2012.000000     625.000000     125.000000        3.000000   \n",
       "75%          2017.000000     913.000000     183.000000        5.000000   \n",
       "max          2022.000000    1200.000000     240.000000     5645.000000   \n",
       "std             5.765130     331.609111      66.313374       30.378014   \n",
       "\n",
       "       number of reviews                    last review  reviews per month  \\\n",
       "count      101228.000000                         101410      101410.000000   \n",
       "mean           27.511854  2018-05-15 21:26:08.721033728           1.163207   \n",
       "min             0.000000            2012-07-11 00:00:00           0.000000   \n",
       "25%             1.000000            2017-07-30 00:00:00           0.090000   \n",
       "50%             7.000000            2019-05-23 00:00:00           0.480000   \n",
       "75%            31.000000            2019-07-01 00:00:00           1.710000   \n",
       "max          1024.000000            2058-06-16 00:00:00          90.000000   \n",
       "std            49.549258                            NaN           1.683708   \n",
       "\n",
       "       review rate number  calculated host listings count  availability 365  \n",
       "count       101103.000000                   101092.000000     100990.000000  \n",
       "mean             3.278558                        7.948463        141.164660  \n",
       "min              1.000000                        1.000000        -10.000000  \n",
       "25%              2.000000                        1.000000          3.000000  \n",
       "50%              3.000000                        1.000000         96.000000  \n",
       "75%              4.000000                        2.000000        269.000000  \n",
       "max              5.000000                      332.000000       3677.000000  \n",
       "std              1.285369                       32.328974        135.419199  "
      ]
     },
     "execution_count": 16,
     "metadata": {},
     "output_type": "execute_result"
    }
   ],
   "source": [
    "df.describe()"
   ]
  },
  {
   "cell_type": "markdown",
   "id": "437a154d-f2de-4a3e-a29a-18e1d52c8be8",
   "metadata": {},
   "source": [
    "# QUESTONS IN (AIR BNB )"
   ]
  },
  {
   "cell_type": "markdown",
   "id": "fcd6912a-08f7-4fd2-a44a-1b12c09b1645",
   "metadata": {},
   "source": [
    "# *What is distribution of listing prices?*"
   ]
  },
  {
   "cell_type": "code",
   "execution_count": 17,
   "id": "ecdad56d-972d-4b8e-8b3b-282b0f514e51",
   "metadata": {},
   "outputs": [
    {
     "data": {
      "image/png": "[encoded data removed]",
      "text/plain": [
       "<Figure size 1000x500 with 1 Axes>"
      ]
     },
     "metadata": {},
     "output_type": "display_data"
    }
   ],
   "source": [
    "plt.figure(figsize=(10,5))\n",
    "sns.histplot(df['price'],kde=True,bins=50,color='red')\n",
    "plt.title('price distribution')\n",
    "# plt.xlabel('')\n",
    "# plt.ylabel()\n",
    "plt.show()"
   ]
  },
  {
   "cell_type": "markdown",
   "id": "99314f68-b904-4069-8b99-b628403c757e",
   "metadata": {},
   "source": [
    "# *Disstribution room types*"
   ]
  },
  {
   "cell_type": "code",
   "execution_count": 18,
   "id": "4d1dce39-98cd-4b91-90ab-db63bb5b2b28",
   "metadata": {},
   "outputs": [
    {
     "data": {
      "image/png": "[encoded data removed]",
      "text/plain": [
       "<Figure size 1000x500 with 1 Axes>"
      ]
     },
     "metadata": {},
     "output_type": "display_data"
    }
   ],
   "source": [
    "plt.figure(figsize=(10,5))\n",
    "sns.countplot(x=df['room type'],data=df,color='blue')\n",
    "plt.title('room type distribution')\n",
    "plt.show()"
   ]
  },
  {
   "cell_type": "markdown",
   "id": "93882f0a-64a8-45c5-ada8-3a4533479fff",
   "metadata": {},
   "source": [
    "# *How are the listing distributed across defferent neighbourhood?*"
   ]
  },
  {
   "cell_type": "code",
   "execution_count": 19,
   "id": "11c48558-c3e1-478e-92a8-29984afb118b",
   "metadata": {},
   "outputs": [
    {
     "data": {
      "image/png": "[encoded data removed]",
      "text/plain": [
       "<Figure size 1000x500 with 1 Axes>"
      ]
     },
     "metadata": {},
     "output_type": "display_data"
    }
   ],
   "source": [
    "plt.figure(figsize=(10,5))\n",
    "sns.countplot(y=df['neighbourhood group'],data=df,color='lightgreen',order=df['neighbourhood group'].value_counts().index)\n",
    "plt.title(\"number of listings by neighbourhood group\")\n",
    "plt.show()"
   ]
  },
  {
   "cell_type": "markdown",
   "id": "c0bceac8-723a-4746-92ed-61ac49bbbe74",
   "metadata": {},
   "source": [
    "# *What is the relationship between price and room type?*"
   ]
  },
  {
   "cell_type": "code",
   "execution_count": 20,
   "id": "a8b9bc12-834c-46cf-9c3c-48cf9b3161f1",
   "metadata": {},
   "outputs": [
    {
     "name": "stderr",
     "output_type": "stream",
     "text": [
      "C:\\Users\\Unifier\\AppData\\Local\\Temp\\ipykernel_9136\\1743719792.py:4: UserWarning: No artists with labels found to put in legend.  Note that artists whose label start with an underscore are ignored when legend() is called with no argument.\n",
      "  plt.legend(title='room type')\n"
     ]
    },
    {
     "data": {
      "image/png": "[encoded data removed]",
      "text/plain": [
       "<Figure size 1000x500 with 1 Axes>"
      ]
     },
     "metadata": {},
     "output_type": "display_data"
    }
   ],
   "source": [
    "plt.figure(figsize=(10,5))\n",
    "sns.boxplot(x=df['room type'],y=df['price'],data=df,hue='room type')\n",
    "plt.title('price and room relation')\n",
    "plt.legend(title='room type')\n",
    "plt.show()"
   ]
  },
  {
   "cell_type": "markdown",
   "id": "4b0cc78c-f25e-4d2b-8e51-6f841530c718",
   "metadata": {},
   "source": [
    "# *How has the number of review change over with time?*"
   ]
  },
  {
   "cell_type": "code",
   "execution_count": 21,
   "id": "679fc4b1-df19-430e-9301-589e16675fdd",
   "metadata": {},
   "outputs": [
    {
     "data": {
      "image/png": "[encoded data removed]",
      "text/plain": [
       "<Figure size 1000x500 with 1 Axes>"
      ]
     },
     "metadata": {},
     "output_type": "display_data"
    }
   ],
   "source": [
    "plt.figure(figsize=(10,5))\n",
    "reviews_over_time=df.groupby(df['last review'].dt.to_period('M')).size()\n",
    "reviews_over_time.plot(kind='line',color='red')\n",
    "plt.title(\"number of review overtime\")\n",
    "plt.show()"
   ]
  },
  {
   "cell_type": "code",
   "execution_count": null,
   "id": "ad69c0cf-cba4-4099-bc35-6eed9d6843fa",
   "metadata": {},
   "outputs": [],
   "source": []
  }
 ],
 "metadata": {
  "kernelspec": {
   "display_name": "Python [conda env:base] *",
   "language": "python",
   "name": "conda-base-py"
  },
  "language_info": {
   "codemirror_mode": {
    "name": "ipython",
    "version": 3
   },
   "file_extension": ".py",
   "mimetype": "text/x-python",
   "name": "python",
   "nbconvert_exporter": "python",
   "pygments_lexer": "ipython3",
   "version": "3.12.7"
  }
 },
 "nbformat": 4,
 "nbformat_minor": 5
}
